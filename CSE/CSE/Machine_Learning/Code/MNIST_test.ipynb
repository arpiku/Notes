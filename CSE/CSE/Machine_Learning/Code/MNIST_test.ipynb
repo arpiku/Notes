{
 "cells": [
  {
   "cell_type": "markdown",
   "id": "ad2aebde",
   "metadata": {},
   "source": [
    "import matplotlib.pyplot as plt #for ploting\n",
    "import numpy as np\n",
    "import pandas as pd #for dataframes and converting data from numpy\n",
    "import seaborn as sns #for ploting\n",
    "\n",
    "from sklearn import datasets\n",
    "from sklearn import manifold\n",
    "\n",
    "data = datasets.fetch_openml('mnist_784', version = 1,return_X_y = True) # getting the data\n",
    "pixel_values, targets = data\n",
    "targets = targets.astype(int)\n",
    "single_image = pixel_values[1,:].reshape(28,28)\n",
    "plt.imshow(single_image, cmap = 'gray')"
   ]
  },
  {
   "cell_type": "markdown",
   "id": "ed3ff314",
   "metadata": {},
   "source": [
    "### t-distributed stochastic neighbor embedding\n",
    "t-distributed stochastic neighbor embedding (t-SNE) is a statistical method for visualizing high-dimensional data by giving each datapoint a location in a two or three-dimensional map. It is based on Stochastic Neighbor Embedding originally developed by Sam Roweis and Geoffrey Hinton, where Laurens van der Maaten proposed the t-distributed variant.\n",
    "\n",
    "### manifold learning\n",
    "Manifold learning is an approach to non-linear dimensionality reduction. Algorithms for this task are based on the idea that the dimensionality of many data sets is only artificially high."
   ]
  },
  {
   "cell_type": "code",
   "execution_count": null,
   "id": "32e616de",
   "metadata": {},
   "outputs": [],
   "source": [
    "tsne = manifold.TSNE(n_components=2, random_state = 42)\n",
    "transformed_data = tsne.fit_transform(pixel_values[:3000,:])\n",
    "\n",
    "tsne_df = pd.DataFrame\n",
    "(np.column_stack((transformed_data, targets[:3000])),\n",
    "columns = [\"x\", \"y\", \"targets\"])\n",
    "tsne_df.loc[:, \"targets\"] = tsne_df.targets.astype(int)"
   ]
  },
  {
   "cell_type": "code",
   "execution_count": null,
   "id": "cb6d515d",
   "metadata": {},
   "outputs": [],
   "source": [
    "grid = sns.FacetGrid(tsne_df, hue=\"targets\", size=8) \n",
    "grid.map(plt.scatter, \"x\", \"y\").add_legend()"
   ]
  }
 ],
 "metadata": {
  "kernelspec": {
   "display_name": "Python 3 (ipykernel)",
   "language": "python",
   "name": "python3"
  },
  "language_info": {
   "codemirror_mode": {
    "name": "ipython",
    "version": 3
   },
   "file_extension": ".py",
   "mimetype": "text/x-python",
   "name": "python",
   "nbconvert_exporter": "python",
   "pygments_lexer": "ipython3",
   "version": "3.9.13"
  }
 },
 "nbformat": 4,
 "nbformat_minor": 5
}
